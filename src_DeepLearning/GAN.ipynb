{
 "cells": [
  {
   "cell_type": "markdown",
   "id": "894021f4",
   "metadata": {},
   "source": [
    "## auto-encoder\n",
    "* gan : 세상에 존재하지 않는 완전한 가상의 것을 만든다\n",
    "* AE : 입력데이터의 특징을 효율적으로 담아낸 이미지를 만듬\n",
    "<br><br>\n",
    "* AE는 영상 의학 분야 등 데이터가 충분하지 않은 분야에서 사용 가능. 데이터의 특징을 잘 찾아냄.\n",
    "<br><br>\n",
    "* input -> encoder -> hidden -> decoder -> output\n",
    "* auto encoder는 input layer와 output layer의 nodes 수가 같다.\n",
    "* 입력층보다 적은 수의 노드를 가진 히든레이어를 넣어서 차원을 줄여주고, 복원하기 위해 학습을 하며 이 과정을 통해 특징을 잡아냄"
   ]
  },
  {
   "cell_type": "code",
   "execution_count": 1,
   "id": "d0e01243",
   "metadata": {},
   "outputs": [
    {
     "name": "stdout",
     "output_type": "stream",
     "text": [
      "Metal device set to: Apple M1\n",
      "Model: \"sequential\"\n",
      "_________________________________________________________________\n",
      " Layer (type)                Output Shape              Param #   \n",
      "=================================================================\n",
      " conv2d (Conv2D)             (None, 28, 28, 16)        160       \n",
      "                                                                 \n",
      " max_pooling2d (MaxPooling2D  (None, 14, 14, 16)       0         \n",
      " )                                                               \n",
      "                                                                 \n",
      " conv2d_1 (Conv2D)           (None, 14, 14, 8)         1160      \n",
      "                                                                 \n",
      " max_pooling2d_1 (MaxPooling  (None, 7, 7, 8)          0         \n",
      " 2D)                                                             \n",
      "                                                                 \n",
      " conv2d_2 (Conv2D)           (None, 4, 4, 8)           584       \n",
      "                                                                 \n",
      " conv2d_3 (Conv2D)           (None, 4, 4, 8)           584       \n",
      "                                                                 \n",
      " up_sampling2d (UpSampling2D  (None, 8, 8, 8)          0         \n",
      " )                                                               \n",
      "                                                                 \n",
      " conv2d_4 (Conv2D)           (None, 8, 8, 8)           584       \n",
      "                                                                 \n",
      " up_sampling2d_1 (UpSampling  (None, 16, 16, 8)        0         \n",
      " 2D)                                                             \n",
      "                                                                 \n",
      " conv2d_5 (Conv2D)           (None, 14, 14, 16)        1168      \n",
      "                                                                 \n",
      " up_sampling2d_2 (UpSampling  (None, 28, 28, 16)       0         \n",
      " 2D)                                                             \n",
      "                                                                 \n",
      " conv2d_6 (Conv2D)           (None, 28, 28, 1)         145       \n",
      "                                                                 \n",
      "=================================================================\n",
      "Total params: 4,385\n",
      "Trainable params: 4,385\n",
      "Non-trainable params: 0\n",
      "_________________________________________________________________\n"
     ]
    },
    {
     "name": "stderr",
     "output_type": "stream",
     "text": [
      "2022-09-06 10:01:35.706192: I tensorflow/core/common_runtime/pluggable_device/pluggable_device_factory.cc:305] Could not identify NUMA node of platform GPU ID 0, defaulting to 0. Your kernel may not have been built with NUMA support.\n",
      "2022-09-06 10:01:35.706597: I tensorflow/core/common_runtime/pluggable_device/pluggable_device_factory.cc:271] Created TensorFlow device (/job:localhost/replica:0/task:0/device:GPU:0 with 0 MB memory) -> physical PluggableDevice (device: 0, name: METAL, pci bus id: <undefined>)\n"
     ]
    }
   ],
   "source": [
    "from tensorflow.keras.datasets import mnist\n",
    "from tensorflow.keras.models import Sequential, Model\n",
    "from tensorflow.keras.layers import Input, Dense, Conv2D, MaxPooling2D, UpSampling2D, Flatten, Reshape\n",
    "import matplotlib.pyplot as plt\n",
    "import numpy as np\n",
    "\n",
    "# MNIST 데이터셋을 불러옵니다.\n",
    "\n",
    "(X_train, _), (X_test, _) = mnist.load_data()\n",
    "X_train = X_train.reshape(X_train.shape[0], 28, 28, 1).astype('float32') / 255\n",
    "X_test = X_test.reshape(X_test.shape[0], 28, 28, 1).astype('float32') / 255\n",
    "\n",
    "# 생성자 모델을 만듭니다.\n",
    "autoencoder = Sequential()\n",
    "\n",
    "# 인코딩 부분입니다.\n",
    "autoencoder.add(Conv2D(16, kernel_size=3, padding='same', input_shape=(28,28,1), activation='relu'))\n",
    "autoencoder.add(MaxPooling2D(pool_size=2, padding='same'))\n",
    "autoencoder.add(Conv2D(8, kernel_size=3, activation='relu', padding='same'))\n",
    "autoencoder.add(MaxPooling2D(pool_size=2, padding='same'))\n",
    "autoencoder.add(Conv2D(8, kernel_size=3, strides=2, padding='same', activation='relu'))\n",
    "\n",
    "# 디코딩 부분이 이어집니다. \n",
    "autoencoder.add(Conv2D(8, kernel_size=3, padding='same', activation='relu'))\n",
    "autoencoder.add(UpSampling2D()) # 2배가 된다\n",
    "autoencoder.add(Conv2D(8, kernel_size=3, padding='same', activation='relu'))\n",
    "autoencoder.add(UpSampling2D())\n",
    "autoencoder.add(Conv2D(16, kernel_size=3, activation='relu'))\n",
    "autoencoder.add(UpSampling2D())\n",
    "autoencoder.add(Conv2D(1, kernel_size=3, padding='same', activation='sigmoid'))\n",
    "\n",
    "# 전체 구조를 확인해 봅니다.\n",
    "autoencoder.summary()"
   ]
  },
  {
   "cell_type": "code",
   "execution_count": 2,
   "id": "299c075b",
   "metadata": {},
   "outputs": [
    {
     "name": "stdout",
     "output_type": "stream",
     "text": [
      "Epoch 1/50\n"
     ]
    },
    {
     "name": "stderr",
     "output_type": "stream",
     "text": [
      "2022-09-06 10:01:52.524746: W tensorflow/core/platform/profile_utils/cpu_utils.cc:128] Failed to get CPU frequency: 0 Hz\n",
      "2022-09-06 10:01:52.804153: I tensorflow/core/grappler/optimizers/custom_graph_optimizer_registry.cc:113] Plugin optimizer for device_type GPU is enabled.\n"
     ]
    },
    {
     "name": "stdout",
     "output_type": "stream",
     "text": [
      "469/469 [==============================] - ETA: 0s - loss: 0.2232"
     ]
    },
    {
     "name": "stderr",
     "output_type": "stream",
     "text": [
      "2022-09-06 10:02:07.285870: I tensorflow/core/grappler/optimizers/custom_graph_optimizer_registry.cc:113] Plugin optimizer for device_type GPU is enabled.\n"
     ]
    },
    {
     "name": "stdout",
     "output_type": "stream",
     "text": [
      "469/469 [==============================] - 16s 29ms/step - loss: 0.2232 - val_loss: 0.1372\n",
      "Epoch 2/50\n",
      "469/469 [==============================] - 13s 27ms/step - loss: 0.1266 - val_loss: 0.1185\n",
      "Epoch 3/50\n",
      "469/469 [==============================] - 12s 26ms/step - loss: 0.1159 - val_loss: 0.1119\n",
      "Epoch 4/50\n",
      "469/469 [==============================] - 12s 25ms/step - loss: 0.1108 - val_loss: 0.1076\n",
      "Epoch 5/50\n",
      "469/469 [==============================] - 12s 26ms/step - loss: 0.1073 - val_loss: 0.1049\n",
      "Epoch 6/50\n",
      "469/469 [==============================] - 13s 27ms/step - loss: 0.1045 - val_loss: 0.1022\n",
      "Epoch 7/50\n",
      "469/469 [==============================] - 13s 27ms/step - loss: 0.1022 - val_loss: 0.1000\n",
      "Epoch 8/50\n",
      "469/469 [==============================] - 12s 27ms/step - loss: 0.1004 - val_loss: 0.0985\n",
      "Epoch 9/50\n",
      "469/469 [==============================] - 13s 27ms/step - loss: 0.0989 - val_loss: 0.0972\n",
      "Epoch 10/50\n",
      "469/469 [==============================] - 12s 26ms/step - loss: 0.0977 - val_loss: 0.0963\n",
      "Epoch 11/50\n",
      "469/469 [==============================] - 13s 28ms/step - loss: 0.0966 - val_loss: 0.0951\n",
      "Epoch 12/50\n",
      "469/469 [==============================] - 13s 28ms/step - loss: 0.0957 - val_loss: 0.0944\n",
      "Epoch 13/50\n",
      "469/469 [==============================] - 13s 28ms/step - loss: 0.0949 - val_loss: 0.0935\n",
      "Epoch 14/50\n",
      "469/469 [==============================] - 13s 28ms/step - loss: 0.0941 - val_loss: 0.0927\n",
      "Epoch 15/50\n",
      "469/469 [==============================] - 13s 28ms/step - loss: 0.0934 - val_loss: 0.0921\n",
      "Epoch 16/50\n",
      "469/469 [==============================] - 13s 27ms/step - loss: 0.0929 - val_loss: 0.0914\n",
      "Epoch 17/50\n",
      "469/469 [==============================] - 13s 27ms/step - loss: 0.0923 - val_loss: 0.0913\n",
      "Epoch 18/50\n",
      "469/469 [==============================] - 12s 27ms/step - loss: 0.0920 - val_loss: 0.0908\n",
      "Epoch 19/50\n",
      "469/469 [==============================] - 13s 28ms/step - loss: 0.0916 - val_loss: 0.0903\n",
      "Epoch 20/50\n",
      "469/469 [==============================] - 13s 27ms/step - loss: 0.0912 - val_loss: 0.0901\n",
      "Epoch 21/50\n",
      "469/469 [==============================] - 13s 28ms/step - loss: 0.0909 - val_loss: 0.0896\n",
      "Epoch 22/50\n",
      "469/469 [==============================] - 13s 27ms/step - loss: 0.0906 - val_loss: 0.0894\n",
      "Epoch 23/50\n",
      "469/469 [==============================] - 13s 27ms/step - loss: 0.0903 - val_loss: 0.0890\n",
      "Epoch 24/50\n",
      "469/469 [==============================] - 13s 27ms/step - loss: 0.0900 - val_loss: 0.0888\n",
      "Epoch 25/50\n",
      "469/469 [==============================] - 13s 28ms/step - loss: 0.0898 - val_loss: 0.0886\n",
      "Epoch 26/50\n",
      "469/469 [==============================] - 12s 26ms/step - loss: 0.0895 - val_loss: 0.0888\n",
      "Epoch 27/50\n",
      "469/469 [==============================] - 13s 27ms/step - loss: 0.0893 - val_loss: 0.0882\n",
      "Epoch 28/50\n",
      "469/469 [==============================] - 12s 26ms/step - loss: 0.0891 - val_loss: 0.0885\n",
      "Epoch 29/50\n",
      "469/469 [==============================] - 13s 27ms/step - loss: 0.0889 - val_loss: 0.0879\n",
      "Epoch 30/50\n",
      "469/469 [==============================] - 12s 26ms/step - loss: 0.0887 - val_loss: 0.0875\n",
      "Epoch 31/50\n",
      "469/469 [==============================] - 13s 27ms/step - loss: 0.0885 - val_loss: 0.0873\n",
      "Epoch 32/50\n",
      "469/469 [==============================] - 13s 27ms/step - loss: 0.0883 - val_loss: 0.0870\n",
      "Epoch 33/50\n",
      "469/469 [==============================] - 13s 28ms/step - loss: 0.0880 - val_loss: 0.0868\n",
      "Epoch 34/50\n",
      "469/469 [==============================] - 13s 28ms/step - loss: 0.0879 - val_loss: 0.0866\n",
      "Epoch 35/50\n",
      "469/469 [==============================] - 12s 26ms/step - loss: 0.0877 - val_loss: 0.0867\n",
      "Epoch 36/50\n",
      "469/469 [==============================] - 13s 28ms/step - loss: 0.0876 - val_loss: 0.0864\n",
      "Epoch 37/50\n",
      "469/469 [==============================] - 13s 28ms/step - loss: 0.0874 - val_loss: 0.0862\n",
      "Epoch 38/50\n",
      "469/469 [==============================] - 13s 29ms/step - loss: 0.0873 - val_loss: 0.0863\n",
      "Epoch 39/50\n",
      "469/469 [==============================] - 13s 28ms/step - loss: 0.0872 - val_loss: 0.0860\n",
      "Epoch 40/50\n",
      "469/469 [==============================] - 13s 27ms/step - loss: 0.0870 - val_loss: 0.0860\n",
      "Epoch 41/50\n",
      "469/469 [==============================] - 13s 27ms/step - loss: 0.0870 - val_loss: 0.0858\n",
      "Epoch 42/50\n",
      "469/469 [==============================] - 13s 28ms/step - loss: 0.0868 - val_loss: 0.0857\n",
      "Epoch 43/50\n",
      "469/469 [==============================] - 13s 28ms/step - loss: 0.0867 - val_loss: 0.0855\n",
      "Epoch 44/50\n",
      "469/469 [==============================] - 13s 27ms/step - loss: 0.0866 - val_loss: 0.0855\n",
      "Epoch 45/50\n",
      "469/469 [==============================] - 12s 26ms/step - loss: 0.0865 - val_loss: 0.0857\n",
      "Epoch 46/50\n",
      "469/469 [==============================] - 13s 28ms/step - loss: 0.0864 - val_loss: 0.0859\n",
      "Epoch 47/50\n",
      "469/469 [==============================] - 13s 29ms/step - loss: 0.0863 - val_loss: 0.0854\n",
      "Epoch 48/50\n",
      "469/469 [==============================] - 12s 26ms/step - loss: 0.0862 - val_loss: 0.0851\n",
      "Epoch 49/50\n",
      "469/469 [==============================] - 13s 29ms/step - loss: 0.0862 - val_loss: 0.0850\n",
      "Epoch 50/50\n",
      "469/469 [==============================] - 13s 27ms/step - loss: 0.0861 - val_loss: 0.0850\n",
      " 21/313 [=>............................] - ETA: 1s"
     ]
    },
    {
     "name": "stderr",
     "output_type": "stream",
     "text": [
      "2022-09-06 10:12:32.028161: I tensorflow/core/grappler/optimizers/custom_graph_optimizer_registry.cc:113] Plugin optimizer for device_type GPU is enabled.\n"
     ]
    },
    {
     "name": "stdout",
     "output_type": "stream",
     "text": [
      "313/313 [==============================] - 2s 5ms/step\n"
     ]
    },
    {
     "data": {
      "image/png": "[encoded data removed]",
      "text/plain": [
       "<Figure size 700x200 with 10 Axes>"
      ]
     },
     "metadata": {},
     "output_type": "display_data"
    }
   ],
   "source": [
    "# 컴파일 및 학습을 하는 부분입니다.\n",
    "autoencoder.compile(optimizer='adam', loss='binary_crossentropy')\n",
    "autoencoder.fit(X_train, X_train, epochs=50, batch_size=128, validation_data=(X_test, X_test))\n",
    "\n",
    "# 학습된 결과를 출력하는 부분입니다.\n",
    "random_test = np.random.randint(X_test.shape[0], size=5)  # 테스트할 이미지를 랜덤하게 불러옵니다.\n",
    "ae_imgs = autoencoder.predict(X_test)                     # 앞서 만든 오토인코더 모델에 집어 넣습니다.\n",
    "\n",
    "plt.figure(figsize=(7, 2))                         # 출력될 이미지의 크기를 정합니다.\n",
    "\n",
    "for i, image_idx in enumerate(random_test):       # 랜덤하게 뽑은 이미지를 차례로 나열합니다.\n",
    "   ax = plt.subplot(2, 7, i + 1) \n",
    "   plt.imshow(X_test[image_idx].reshape(28, 28))   # 테스트할 이미지를 먼저 그대로 보여줍니다.\n",
    "   ax.axis('off')\n",
    "   ax = plt.subplot(2, 7, 7 + i +1)\n",
    "   plt.imshow(ae_imgs[image_idx].reshape(28, 28)) # 오토인코딩 결과를 다음열에 출력합니다.\n",
    "   ax.axis('off')\n",
    "plt.show()"
   ]
  },
  {
   "cell_type": "code",
   "execution_count": 3,
   "id": "dc49111b",
   "metadata": {},
   "outputs": [
    {
     "data": {
      "text/plain": [
       "(60000, 28, 28, 1)"
      ]
     },
     "execution_count": 3,
     "metadata": {},
     "output_type": "execute_result"
    }
   ],
   "source": []
  },
  {
   "cell_type": "code",
   "execution_count": null,
   "id": "91073b92",
   "metadata": {},
   "outputs": [],
   "source": []
  }
 ],
 "metadata": {
  "kernelspec": {
   "display_name": "Python 3 (ipykernel)",
   "language": "python",
   "name": "python3"
  },
  "language_info": {
   "codemirror_mode": {
    "name": "ipython",
    "version": 3
   },
   "file_extension": ".py",
   "mimetype": "text/x-python",
   "name": "python",
   "nbconvert_exporter": "python",
   "pygments_lexer": "ipython3",
   "version": "3.10.6"
  }
 },
 "nbformat": 4,
 "nbformat_minor": 5
}
