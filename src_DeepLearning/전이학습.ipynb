{
 "cells": [
  {
   "cell_type": "markdown",
   "id": "108fceaa",
   "metadata": {},
   "source": [
    "* 데이터가 충분하지 않을 때 데이터를 변형시켜서 여러 학습을 시키는 방법"
   ]
  },
  {
   "cell_type": "markdown",
   "id": "e1323fc1",
   "metadata": {},
   "source": [
    "ImageDataGenerator(): <br>\n",
    "* horizontal_flip\n",
    "* zoom\n",
    "* width_shift\n",
    "* height_shift\n",
    "* rotation\n",
    "* vertical_flip\n",
    "* shear\n",
    "<br><br>\n",
    "이걸 모두 적용하면 불필요한 데이터로 학습시간이 늘어난다.<br>\n",
    "데이터 특성에 따라 몇개만 골라서 사용.<br>\n",
    "데이터 부풀리기는 학습셋에만 이용한다."
   ]
  },
  {
   "cell_type": "code",
   "execution_count": 1,
   "id": "3eb5710f",
   "metadata": {},
   "outputs": [
    {
     "name": "stdout",
     "output_type": "stream",
     "text": [
      "Found 160 images belonging to 2 classes.\n",
      "Found 120 images belonging to 2 classes.\n",
      "Metal device set to: Apple M1\n",
      "Model: \"sequential\"\n",
      "_________________________________________________________________\n",
      " Layer (type)                Output Shape              Param #   \n",
      "=================================================================\n",
      " conv2d (Conv2D)             (None, 148, 148, 32)      896       \n",
      "                                                                 \n",
      " activation (Activation)     (None, 148, 148, 32)      0         \n",
      "                                                                 \n",
      " max_pooling2d (MaxPooling2D  (None, 74, 74, 32)       0         \n",
      " )                                                               \n",
      "                                                                 \n",
      " conv2d_1 (Conv2D)           (None, 72, 72, 32)        9248      \n",
      "                                                                 \n",
      " activation_1 (Activation)   (None, 72, 72, 32)        0         \n",
      "                                                                 \n",
      " max_pooling2d_1 (MaxPooling  (None, 36, 36, 32)       0         \n",
      " 2D)                                                             \n",
      "                                                                 \n",
      " conv2d_2 (Conv2D)           (None, 34, 34, 64)        18496     \n",
      "                                                                 \n",
      " activation_2 (Activation)   (None, 34, 34, 64)        0         \n",
      "                                                                 \n",
      " max_pooling2d_2 (MaxPooling  (None, 17, 17, 64)       0         \n",
      " 2D)                                                             \n",
      "                                                                 \n",
      " flatten (Flatten)           (None, 18496)             0         \n",
      "                                                                 \n",
      " dense (Dense)               (None, 64)                1183808   \n",
      "                                                                 \n",
      " activation_3 (Activation)   (None, 64)                0         \n",
      "                                                                 \n",
      " dropout (Dropout)           (None, 64)                0         \n",
      "                                                                 \n",
      " dense_1 (Dense)             (None, 1)                 65        \n",
      "                                                                 \n",
      " activation_4 (Activation)   (None, 1)                 0         \n",
      "                                                                 \n",
      "=================================================================\n",
      "Total params: 1,212,513\n",
      "Trainable params: 1,212,513\n",
      "Non-trainable params: 0\n",
      "_________________________________________________________________\n"
     ]
    },
    {
     "name": "stderr",
     "output_type": "stream",
     "text": [
      "2022-09-06 10:52:45.497892: I tensorflow/core/common_runtime/pluggable_device/pluggable_device_factory.cc:305] Could not identify NUMA node of platform GPU ID 0, defaulting to 0. Your kernel may not have been built with NUMA support.\n",
      "2022-09-06 10:52:45.498009: I tensorflow/core/common_runtime/pluggable_device/pluggable_device_factory.cc:271] Created TensorFlow device (/job:localhost/replica:0/task:0/device:GPU:0 with 0 MB memory) -> physical PluggableDevice (device: 0, name: METAL, pci bus id: <undefined>)\n"
     ]
    }
   ],
   "source": [
    "from tensorflow.keras.models import Sequential\n",
    "from tensorflow.keras.layers import Dense, Activation, Dropout, Flatten, Conv2D, MaxPooling2D\n",
    "from tensorflow.keras.preprocessing.image import ImageDataGenerator\n",
    "from tensorflow.keras.callbacks import EarlyStopping\n",
    "from tensorflow.keras import optimizers\n",
    "\n",
    "import numpy as np\n",
    "import matplotlib.pyplot as plt\n",
    "\n",
    "#학습셋의 변형을 설정하는 부분입니다. \n",
    "train_datagen = ImageDataGenerator(rescale=1./255,          # 주어진 이미지의 크기를 설정합니다.\n",
    "                                  horizontal_flip=True,     # 수평 대칭 이미지를 50% 확률로 만들어 추가합니다.\n",
    "                                  width_shift_range=0.1,    # 전체 크기의 15% 범위에서 좌우로 이동합니다.\n",
    "                                  height_shift_range=0.1,   # 마찬가지로 위, 아래로 이동합니다.\n",
    "                                  #rotation_range=5,        # 정해진 각도만큼 회전시킵니다.\n",
    "                                  #shear_range=0.7,         # 좌표 하나를 고정시키고 나머지를 이동시킵니다.\n",
    "                                  #zoom_range=1.2,          # 확대 또는 축소시킵니다.\n",
    "                                  #vertical_flip=True,      # 수직 대칭 이미지를 만듭니다.\n",
    "                                  #fill_mode='nearest'      # 빈 공간을 채우는 방법입니다. nearest 옵션은 가장 비슷한 색으로 채우게 됩니다.\n",
    "                                  )      \n",
    "\n",
    "train_generator = train_datagen.flow_from_directory(\n",
    "       '../data/train',   # 학습셋이 있는 폴더의 위치입니다.\n",
    "       target_size=(150, 150),\n",
    "       batch_size=5,\n",
    "       class_mode='binary')\n",
    "\n",
    "# 테스트셋은 이미지 부풀리기 과정을 진행하지 않습니다.\n",
    "test_datagen = ImageDataGenerator(rescale=1./255)  \n",
    "\n",
    "test_generator = test_datagen.flow_from_directory(\n",
    "       '../data/test',   # 테스트셋이 있는 폴더의 위치입니다.\n",
    "       target_size=(150, 150),\n",
    "       batch_size=5,\n",
    "       class_mode='binary')\n",
    "\n",
    "\n",
    "# 앞서 배운 CNN 모델을 만들어 적용해 보겠습니다.\n",
    "model = Sequential()\n",
    "model.add(Conv2D(32, (3, 3), input_shape=(150,150,3)))\n",
    "model.add(Activation('relu'))\n",
    "model.add(MaxPooling2D(pool_size=(2, 2)))\n",
    "\n",
    "model.add(Conv2D(32, (3, 3)))\n",
    "model.add(Activation('relu'))\n",
    "model.add(MaxPooling2D(pool_size=(2, 2)))\n",
    "\n",
    "model.add(Conv2D(64, (3, 3)))\n",
    "model.add(Activation('relu'))\n",
    "model.add(MaxPooling2D(pool_size=(2, 2)))\n",
    "\n",
    "model.add(Flatten())\n",
    "model.add(Dense(64))\n",
    "model.add(Activation('relu'))\n",
    "model.add(Dropout(0.5))\n",
    "model.add(Dense(1))\n",
    "model.add(Activation('sigmoid'))\n",
    "model.summary()"
   ]
  },
  {
   "cell_type": "code",
   "execution_count": 2,
   "id": "440d6f07",
   "metadata": {
    "scrolled": true
   },
   "outputs": [
    {
     "name": "stdout",
     "output_type": "stream",
     "text": [
      "Epoch 1/100\n"
     ]
    },
    {
     "name": "stderr",
     "output_type": "stream",
     "text": [
      "2022-09-06 10:53:24.943522: W tensorflow/core/platform/profile_utils/cpu_utils.cc:128] Failed to get CPU frequency: 0 Hz\n",
      "2022-09-06 10:53:25.208085: I tensorflow/core/grappler/optimizers/custom_graph_optimizer_registry.cc:113] Plugin optimizer for device_type GPU is enabled.\n"
     ]
    },
    {
     "name": "stdout",
     "output_type": "stream",
     "text": [
      "32/32 [==============================] - 2s 24ms/step - loss: 0.7021 - accuracy: 0.4688 - val_loss: 0.6877 - val_accuracy: 0.7600\n",
      "Epoch 2/100\n",
      " 1/32 [..............................] - ETA: 1s - loss: 0.7172 - accuracy: 0.4000"
     ]
    },
    {
     "name": "stderr",
     "output_type": "stream",
     "text": [
      "2022-09-06 10:53:27.200184: I tensorflow/core/grappler/optimizers/custom_graph_optimizer_registry.cc:113] Plugin optimizer for device_type GPU is enabled.\n"
     ]
    },
    {
     "name": "stdout",
     "output_type": "stream",
     "text": [
      "32/32 [==============================] - 1s 22ms/step - loss: 0.6967 - accuracy: 0.5000 - val_loss: 0.6877 - val_accuracy: 0.6000\n",
      "Epoch 3/100\n",
      "32/32 [==============================] - 1s 20ms/step - loss: 0.6935 - accuracy: 0.5063 - val_loss: 0.6838 - val_accuracy: 0.8000\n",
      "Epoch 4/100\n",
      "32/32 [==============================] - 1s 20ms/step - loss: 0.6833 - accuracy: 0.6188 - val_loss: 0.6880 - val_accuracy: 0.5200\n",
      "Epoch 5/100\n",
      "32/32 [==============================] - 1s 19ms/step - loss: 0.6888 - accuracy: 0.5250 - val_loss: 0.6635 - val_accuracy: 0.6600\n",
      "Epoch 6/100\n",
      "32/32 [==============================] - 1s 19ms/step - loss: 0.6578 - accuracy: 0.6750 - val_loss: 0.6189 - val_accuracy: 0.7600\n",
      "Epoch 7/100\n",
      "32/32 [==============================] - 1s 18ms/step - loss: 0.6582 - accuracy: 0.6188 - val_loss: 0.6235 - val_accuracy: 0.8200\n",
      "Epoch 8/100\n",
      "32/32 [==============================] - 1s 19ms/step - loss: 0.6231 - accuracy: 0.7188 - val_loss: 0.6026 - val_accuracy: 0.6200\n",
      "Epoch 9/100\n",
      "32/32 [==============================] - 1s 20ms/step - loss: 0.5792 - accuracy: 0.6813 - val_loss: 0.5427 - val_accuracy: 0.8200\n",
      "Epoch 10/100\n",
      "32/32 [==============================] - 1s 20ms/step - loss: 0.5432 - accuracy: 0.7563 - val_loss: 0.4703 - val_accuracy: 0.9200\n",
      "Epoch 11/100\n",
      "32/32 [==============================] - 1s 19ms/step - loss: 0.4751 - accuracy: 0.8250 - val_loss: 0.4230 - val_accuracy: 0.8000\n",
      "Epoch 12/100\n",
      "32/32 [==============================] - 1s 20ms/step - loss: 0.4206 - accuracy: 0.8000 - val_loss: 0.3686 - val_accuracy: 0.8400\n",
      "Epoch 13/100\n",
      "32/32 [==============================] - 1s 18ms/step - loss: 0.3784 - accuracy: 0.8625 - val_loss: 0.3921 - val_accuracy: 0.7800\n",
      "Epoch 14/100\n",
      "32/32 [==============================] - 1s 19ms/step - loss: 0.3790 - accuracy: 0.8438 - val_loss: 0.2782 - val_accuracy: 0.9600\n",
      "Epoch 15/100\n",
      "32/32 [==============================] - 1s 19ms/step - loss: 0.2664 - accuracy: 0.8750 - val_loss: 0.1781 - val_accuracy: 0.9600\n",
      "Epoch 16/100\n",
      "32/32 [==============================] - 1s 19ms/step - loss: 0.2331 - accuracy: 0.8938 - val_loss: 0.1968 - val_accuracy: 0.9600\n",
      "Epoch 17/100\n",
      "32/32 [==============================] - 1s 19ms/step - loss: 0.3229 - accuracy: 0.8625 - val_loss: 0.2543 - val_accuracy: 0.8400\n",
      "Epoch 18/100\n",
      "32/32 [==============================] - 1s 19ms/step - loss: 0.2292 - accuracy: 0.9187 - val_loss: 0.1800 - val_accuracy: 0.9400\n",
      "Epoch 19/100\n",
      "32/32 [==============================] - 1s 19ms/step - loss: 0.1944 - accuracy: 0.9187 - val_loss: 0.0964 - val_accuracy: 1.0000\n",
      "Epoch 20/100\n",
      "32/32 [==============================] - 1s 18ms/step - loss: 0.2514 - accuracy: 0.9313 - val_loss: 0.1314 - val_accuracy: 0.9800\n",
      "Epoch 21/100\n",
      "32/32 [==============================] - 1s 19ms/step - loss: 0.1895 - accuracy: 0.9438 - val_loss: 0.1436 - val_accuracy: 0.9600\n",
      "Epoch 22/100\n",
      "32/32 [==============================] - 1s 18ms/step - loss: 0.1858 - accuracy: 0.9500 - val_loss: 0.2694 - val_accuracy: 0.8600\n",
      "Epoch 23/100\n",
      "32/32 [==============================] - 1s 19ms/step - loss: 0.2193 - accuracy: 0.9313 - val_loss: 0.1150 - val_accuracy: 0.9600\n",
      "Epoch 24/100\n",
      "32/32 [==============================] - 1s 19ms/step - loss: 0.1679 - accuracy: 0.9625 - val_loss: 0.1219 - val_accuracy: 0.9600\n"
     ]
    }
   ],
   "source": [
    "#모델 실행의 옵션을 설정합니다. \n",
    "model.compile(loss='binary_crossentropy', optimizer=optimizers.Adam(learning_rate=0.0002), metrics=['accuracy'])\n",
    "\n",
    "# 학습의 조기 중단을 설정합니다.\n",
    "early_stopping_callback = EarlyStopping(monitor='val_loss', patience=5)\n",
    "\n",
    "#모델을 실행합니다\n",
    "history = model.fit(\n",
    "       train_generator,\n",
    "       epochs=100,\n",
    "       validation_data=test_generator,\n",
    "       validation_steps=10, \n",
    "       callbacks=[early_stopping_callback])"
   ]
  },
  {
   "cell_type": "code",
   "execution_count": 11,
   "id": "1f052818",
   "metadata": {},
   "outputs": [
    {
     "name": "stdout",
     "output_type": "stream",
     "text": [
      "24/24 [==============================] - 0s 8ms/step - loss: 0.1237 - accuracy: 0.9667\n",
      "[0.12373287230730057, 0.9666666984558105]\n"
     ]
    },
    {
     "data": {
      "image/png": "[encoded data removed]",
      "text/plain": [
       "<Figure size 640x480 with 1 Axes>"
      ]
     },
     "metadata": {},
     "output_type": "display_data"
    }
   ],
   "source": [
    "print (model.evaluate(test_generator))\n",
    "\n",
    "# 검증셋과 학습셋의 오차를 저장합니다.\n",
    "y_vloss = history.history['val_loss']\n",
    "y_loss = history.history['loss']\n",
    "\n",
    "# 그래프로 표현해 봅니다.\n",
    "x_len = np.arange(len(y_loss))\n",
    "plt.plot(x_len, y_vloss, marker='.', c=\"red\", label='Testset_loss')\n",
    "plt.plot(x_len, y_loss, marker='.', c=\"blue\", label='Trainset_loss')\n",
    "\n",
    "# 그래프에 그리드를 주고 레이블을 표시하겠습니다.\n",
    "plt.legend(loc='upper right')\n",
    "plt.grid()\n",
    "plt.xlabel('epoch')\n",
    "plt.ylabel('loss')\n",
    "plt.show()"
   ]
  },
  {
   "cell_type": "code",
   "execution_count": 4,
   "id": "9fc38979",
   "metadata": {},
   "outputs": [
    {
     "name": "stdout",
     "output_type": "stream",
     "text": [
      "Found 160 images belonging to 2 classes.\n",
      "Found 120 images belonging to 2 classes.\n",
      "Downloading data from https://storage.googleapis.com/tensorflow/keras-applications/vgg16/vgg16_weights_tf_dim_ordering_tf_kernels_notop.h5\n",
      "58889256/58889256 [==============================] - 16s 0us/step\n",
      "Model: \"vgg16\"\n",
      "_________________________________________________________________\n",
      " Layer (type)                Output Shape              Param #   \n",
      "=================================================================\n",
      " input_1 (InputLayer)        [(None, 150, 150, 3)]     0         \n",
      "                                                                 \n",
      " block1_conv1 (Conv2D)       (None, 150, 150, 64)      1792      \n",
      "                                                                 \n",
      " block1_conv2 (Conv2D)       (None, 150, 150, 64)      36928     \n",
      "                                                                 \n",
      " block1_pool (MaxPooling2D)  (None, 75, 75, 64)        0         \n",
      "                                                                 \n",
      " block2_conv1 (Conv2D)       (None, 75, 75, 128)       73856     \n",
      "                                                                 \n",
      " block2_conv2 (Conv2D)       (None, 75, 75, 128)       147584    \n",
      "                                                                 \n",
      " block2_pool (MaxPooling2D)  (None, 37, 37, 128)       0         \n",
      "                                                                 \n",
      " block3_conv1 (Conv2D)       (None, 37, 37, 256)       295168    \n",
      "                                                                 \n",
      " block3_conv2 (Conv2D)       (None, 37, 37, 256)       590080    \n",
      "                                                                 \n",
      " block3_conv3 (Conv2D)       (None, 37, 37, 256)       590080    \n",
      "                                                                 \n",
      " block3_pool (MaxPooling2D)  (None, 18, 18, 256)       0         \n",
      "                                                                 \n",
      " block4_conv1 (Conv2D)       (None, 18, 18, 512)       1180160   \n",
      "                                                                 \n",
      " block4_conv2 (Conv2D)       (None, 18, 18, 512)       2359808   \n",
      "                                                                 \n",
      " block4_conv3 (Conv2D)       (None, 18, 18, 512)       2359808   \n",
      "                                                                 \n",
      " block4_pool (MaxPooling2D)  (None, 9, 9, 512)         0         \n",
      "                                                                 \n",
      " block5_conv1 (Conv2D)       (None, 9, 9, 512)         2359808   \n",
      "                                                                 \n",
      " block5_conv2 (Conv2D)       (None, 9, 9, 512)         2359808   \n",
      "                                                                 \n",
      " block5_conv3 (Conv2D)       (None, 9, 9, 512)         2359808   \n",
      "                                                                 \n",
      " block5_pool (MaxPooling2D)  (None, 4, 4, 512)         0         \n",
      "                                                                 \n",
      "=================================================================\n",
      "Total params: 14,714,688\n",
      "Trainable params: 0\n",
      "Non-trainable params: 14,714,688\n",
      "_________________________________________________________________\n",
      "Model: \"sequential_1\"\n",
      "_________________________________________________________________\n",
      " Layer (type)                Output Shape              Param #   \n",
      "=================================================================\n",
      " vgg16 (Functional)          (None, 4, 4, 512)         14714688  \n",
      "                                                                 \n",
      " flatten_1 (Flatten)         (None, 8192)              0         \n",
      "                                                                 \n",
      " dense_2 (Dense)             (None, 64)                524352    \n",
      "                                                                 \n",
      " activation_5 (Activation)   (None, 64)                0         \n",
      "                                                                 \n",
      " dropout_1 (Dropout)         (None, 64)                0         \n",
      "                                                                 \n",
      " dense_3 (Dense)             (None, 1)                 65        \n",
      "                                                                 \n",
      " activation_6 (Activation)   (None, 1)                 0         \n",
      "                                                                 \n",
      "=================================================================\n",
      "Total params: 15,239,105\n",
      "Trainable params: 524,417\n",
      "Non-trainable params: 14,714,688\n",
      "_________________________________________________________________\n"
     ]
    }
   ],
   "source": [
    "from tensorflow.keras.preprocessing.image import ImageDataGenerator\n",
    "from tensorflow.keras import Input, models, layers, optimizers, metrics\n",
    "from tensorflow.keras.layers import Dense, Flatten, Activation, Dropout\n",
    "from tensorflow.keras.applications import VGG16\n",
    "from tensorflow.keras.callbacks import EarlyStopping\n",
    "import numpy as np\n",
    "import matplotlib.pyplot as plt\n",
    "\n",
    "# 학습셋의 변형을 설정하는 부분입니다. \n",
    "train_datagen = ImageDataGenerator(rescale=1./255,          # 주어진 이미지의 크기를 설정합니다.\n",
    "                                  horizontal_flip=True,     # 수평 대칭 이미지를 50% 확률로 만들어 추가합니다.\n",
    "                                  width_shift_range=0.1,    # 전체 크기의 15% 범위에서 좌우로 이동합니다.\n",
    "                                  height_shift_range=0.1,   # 마찬가지로 위, 아래로 이동합니다.\n",
    "                                  #rotation_range=5,        # 정해진 각도만큼 회전시킵니다.\n",
    "                                  #shear_range=0.7,         # 좌표 하나를 고정시키고 나머지를 이동시킵니다.\n",
    "                                  #zoom_range=1.2,          # 확대 또는 축소시킵니다.\n",
    "                                  #vertical_flip=True,      # 수직 대칭 이미지를 만듭니다.\n",
    "                                  #fill_mode='nearest'      # 빈 공간을 채우는 방법입니다. nearest 옵션은 가장 비슷한 색으로 채우게 됩니다.\n",
    "                                  )      \n",
    "\n",
    "\n",
    "train_generator = train_datagen.flow_from_directory(\n",
    "       '../data/train',\n",
    "       target_size=(150, 150),\n",
    "       batch_size=5,\n",
    "       class_mode='binary')\n",
    "\n",
    "# 테스트셋의 정규화를 설정합니다.\n",
    "test_datagen = ImageDataGenerator(rescale=1./255)\n",
    "\n",
    "test_generator = test_datagen.flow_from_directory(\n",
    "       '../data/test',\n",
    "       target_size=(150, 150),\n",
    "       batch_size=5,\n",
    "       class_mode='binary')\n",
    "\n",
    "# VGG16 모델을 불러옵니다.\n",
    "transfer_model = VGG16(weights='imagenet', include_top=False, input_shape=(150, 150, 3))\n",
    "transfer_model.trainable = False\n",
    "transfer_model.summary()\n",
    "\n",
    "# 우리의 모델을 설정합니다.\n",
    "finetune_model = models.Sequential()\n",
    "finetune_model.add(transfer_model)\n",
    "finetune_model.add(Flatten())\n",
    "finetune_model.add(Dense(64))\n",
    "finetune_model.add(Activation('relu'))\n",
    "finetune_model.add(Dropout(0.5))\n",
    "finetune_model.add(Dense(1))\n",
    "finetune_model.add(Activation('sigmoid'))\n",
    "finetune_model.summary()"
   ]
  },
  {
   "cell_type": "code",
   "execution_count": 5,
   "id": "02935aab",
   "metadata": {
    "scrolled": true
   },
   "outputs": [
    {
     "name": "stdout",
     "output_type": "stream",
     "text": [
      "Epoch 1/20\n"
     ]
    },
    {
     "name": "stderr",
     "output_type": "stream",
     "text": [
      "2022-09-06 11:04:24.177369: I tensorflow/core/grappler/optimizers/custom_graph_optimizer_registry.cc:113] Plugin optimizer for device_type GPU is enabled.\n"
     ]
    },
    {
     "name": "stdout",
     "output_type": "stream",
     "text": [
      "32/32 [==============================] - ETA: 0s - loss: 0.7484 - accuracy: 0.5063"
     ]
    },
    {
     "name": "stderr",
     "output_type": "stream",
     "text": [
      "2022-09-06 11:04:26.353577: I tensorflow/core/grappler/optimizers/custom_graph_optimizer_registry.cc:113] Plugin optimizer for device_type GPU is enabled.\n"
     ]
    },
    {
     "name": "stdout",
     "output_type": "stream",
     "text": [
      "32/32 [==============================] - 3s 78ms/step - loss: 0.7484 - accuracy: 0.5063 - val_loss: 0.6295 - val_accuracy: 0.7600\n",
      "Epoch 2/20\n",
      "32/32 [==============================] - 2s 70ms/step - loss: 0.5544 - accuracy: 0.7125 - val_loss: 0.5299 - val_accuracy: 0.7800\n",
      "Epoch 3/20\n",
      "32/32 [==============================] - 2s 72ms/step - loss: 0.5404 - accuracy: 0.7188 - val_loss: 0.5214 - val_accuracy: 0.7200\n",
      "Epoch 4/20\n",
      "32/32 [==============================] - 2s 72ms/step - loss: 0.4582 - accuracy: 0.7875 - val_loss: 0.4023 - val_accuracy: 0.8600\n",
      "Epoch 5/20\n",
      "32/32 [==============================] - 2s 68ms/step - loss: 0.3840 - accuracy: 0.8313 - val_loss: 0.3515 - val_accuracy: 0.9200\n",
      "Epoch 6/20\n",
      "32/32 [==============================] - 2s 69ms/step - loss: 0.3873 - accuracy: 0.8313 - val_loss: 0.3710 - val_accuracy: 0.9000\n",
      "Epoch 7/20\n",
      "32/32 [==============================] - 3s 79ms/step - loss: 0.3376 - accuracy: 0.8625 - val_loss: 0.3614 - val_accuracy: 0.8400\n",
      "Epoch 8/20\n",
      "32/32 [==============================] - 3s 84ms/step - loss: 0.3325 - accuracy: 0.8375 - val_loss: 0.3182 - val_accuracy: 0.8600\n",
      "Epoch 9/20\n",
      "32/32 [==============================] - 2s 70ms/step - loss: 0.3268 - accuracy: 0.8813 - val_loss: 0.2493 - val_accuracy: 0.9400\n",
      "Epoch 10/20\n",
      "32/32 [==============================] - 2s 59ms/step - loss: 0.2752 - accuracy: 0.9125 - val_loss: 0.2417 - val_accuracy: 0.9400\n",
      "Epoch 11/20\n",
      "32/32 [==============================] - 2s 62ms/step - loss: 0.2863 - accuracy: 0.9125 - val_loss: 0.3432 - val_accuracy: 0.8600\n",
      "Epoch 12/20\n",
      "32/32 [==============================] - 2s 61ms/step - loss: 0.2520 - accuracy: 0.9062 - val_loss: 0.2844 - val_accuracy: 0.9000\n",
      "Epoch 13/20\n",
      "32/32 [==============================] - 2s 59ms/step - loss: 0.2647 - accuracy: 0.8688 - val_loss: 0.2808 - val_accuracy: 0.9000\n",
      "Epoch 14/20\n",
      "32/32 [==============================] - 2s 59ms/step - loss: 0.2145 - accuracy: 0.9375 - val_loss: 0.1665 - val_accuracy: 0.9400\n",
      "Epoch 15/20\n",
      "32/32 [==============================] - 2s 59ms/step - loss: 0.2546 - accuracy: 0.9125 - val_loss: 0.2468 - val_accuracy: 0.9400\n",
      "Epoch 16/20\n",
      "32/32 [==============================] - 2s 71ms/step - loss: 0.2345 - accuracy: 0.9000 - val_loss: 0.2385 - val_accuracy: 0.9200\n",
      "Epoch 17/20\n",
      "32/32 [==============================] - 2s 62ms/step - loss: 0.2341 - accuracy: 0.9375 - val_loss: 0.1726 - val_accuracy: 0.9600\n",
      "Epoch 18/20\n",
      "32/32 [==============================] - 2s 72ms/step - loss: 0.2258 - accuracy: 0.9313 - val_loss: 0.3046 - val_accuracy: 0.8400\n",
      "Epoch 19/20\n",
      "32/32 [==============================] - 2s 66ms/step - loss: 0.2333 - accuracy: 0.9187 - val_loss: 0.2249 - val_accuracy: 0.9400\n"
     ]
    }
   ],
   "source": [
    "# 모델의 실행 옵션을 설정합니다. \n",
    "finetune_model.compile(loss='binary_crossentropy', optimizer=optimizers.Adam(learning_rate=0.0002), metrics=['accuracy'])\n",
    "\n",
    "# 학습의 조기 중단을 설정합니다.\n",
    "early_stopping_callback = EarlyStopping(monitor='val_loss', patience=5)\n",
    "\n",
    "# 모델을 실행합니다.\n",
    "history = finetune_model.fit(\n",
    "       train_generator,\n",
    "       epochs=20,\n",
    "       validation_data=test_generator,\n",
    "       validation_steps=10, \n",
    "       callbacks=[early_stopping_callback])"
   ]
  },
  {
   "cell_type": "code",
   "execution_count": 9,
   "id": "2815b6f2",
   "metadata": {},
   "outputs": [
    {
     "name": "stdout",
     "output_type": "stream",
     "text": [
      "24/24 [==============================] - 1s 46ms/step - loss: 0.2701 - accuracy: 0.9167\n",
      "[0.2700589597225189, 0.9166666865348816]\n"
     ]
    },
    {
     "data": {
      "image/png": "[encoded data removed]",
      "text/plain": [
       "<Figure size 640x480 with 1 Axes>"
      ]
     },
     "metadata": {},
     "output_type": "display_data"
    }
   ],
   "source": [
    "print (finetune_model.evaluate(test_generator))\n",
    "\n",
    "# 검증셋과 학습셋의 오차를 저장합니다.\n",
    "y_vloss = history.history['val_loss']\n",
    "y_loss = history.history['loss']\n",
    "\n",
    "# 그래프로 표현해 봅니다.\n",
    "x_len = np.arange(len(y_loss))\n",
    "plt.plot(x_len, y_vloss, marker='.', c=\"red\", label='Testset_loss')\n",
    "plt.plot(x_len, y_loss, marker='.', c=\"blue\", label='Trainset_loss')\n",
    "\n",
    "# 그래프에 그리드를 주고 레이블을 표시하겠습니다.\n",
    "plt.legend(loc='upper right')\n",
    "plt.grid()\n",
    "plt.xlabel('epoch')\n",
    "plt.ylabel('loss')\n",
    "plt.show()"
   ]
  },
  {
   "cell_type": "code",
   "execution_count": null,
   "id": "62427358",
   "metadata": {},
   "outputs": [],
   "source": []
  }
 ],
 "metadata": {
  "kernelspec": {
   "display_name": "Python 3 (ipykernel)",
   "language": "python",
   "name": "python3"
  },
  "language_info": {
   "codemirror_mode": {
    "name": "ipython",
    "version": 3
   },
   "file_extension": ".py",
   "mimetype": "text/x-python",
   "name": "python",
   "nbconvert_exporter": "python",
   "pygments_lexer": "ipython3",
   "version": "3.10.6"
  }
 },
 "nbformat": 4,
 "nbformat_minor": 5
}
